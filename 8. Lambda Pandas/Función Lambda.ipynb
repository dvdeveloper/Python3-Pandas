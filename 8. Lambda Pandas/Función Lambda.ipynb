{
 "cells": [
  {
   "cell_type": "code",
   "execution_count": 1,
   "metadata": {},
   "outputs": [],
   "source": [
    "import pandas as pd"
   ]
  },
  {
   "cell_type": "code",
   "execution_count": 2,
   "metadata": {},
   "outputs": [
    {
     "name": "stdout",
     "output_type": "stream",
     "text": [
      "5\n"
     ]
    }
   ],
   "source": [
    "#ejemplo creación lambda \n",
    "add_two = lambda my_input : my_input + 2\n",
    "print(add_two(3))"
   ]
  },
  {
   "cell_type": "code",
   "execution_count": 3,
   "metadata": {},
   "outputs": [
    {
     "name": "stdout",
     "output_type": "stream",
     "text": [
      "44.5\n"
     ]
    }
   ],
   "source": [
    "#ejemplo 2 - creación de lambda\n",
    "myfuncion = lambda x : 40 + (x - 40) * 1.50 if x > 40 else x\n",
    "print(myfuncion(43))"
   ]
  },
  {
   "cell_type": "code",
   "execution_count": 4,
   "metadata": {},
   "outputs": [
    {
     "name": "stdout",
     "output_type": "stream",
     "text": [
      "             Nombre                        Correo\n",
      "0  DIEGO VALLADARES  diego.valladares@outlook.com\n",
      "1      PEPITO MUÑOZ      pepito.muñoz@outlook.com\n",
      "2       JUAN MARTIN             jmartin@gmail.com\n"
     ]
    }
   ],
   "source": [
    "df = pd.DataFrame([\n",
    "    ['DIEGO VALLADARES','diego.valladares@outlook.com'],\n",
    "    ['PEPITO MUÑOZ','pepito.muñoz@outlook.com'],\n",
    "    ['JUAN MARTIN','jmartin@gmail.com']\n",
    "],\n",
    "columns = ['Nombre','Correo'])\n",
    "print(df)"
   ]
  },
  {
   "cell_type": "code",
   "execution_count": 6,
   "metadata": {},
   "outputs": [
    {
     "name": "stdout",
     "output_type": "stream",
     "text": [
      "             Nombre                        Correo Email Provider\n",
      "0  DIEGO VALLADARES  diego.valladares@outlook.com    outlook.com\n",
      "1      PEPITO MUÑOZ      pepito.muñoz@outlook.com    outlook.com\n",
      "2       JUAN MARTIN             jmartin@gmail.com      gmail.com\n"
     ]
    }
   ],
   "source": [
    "#obtener Email Provider\n",
    "df['Email Provider'] = df.Correo.apply(\n",
    "    lambda x : x.split('@')[-1]\n",
    ")\n",
    "print(df)"
   ]
  },
  {
   "cell_type": "code",
   "execution_count": 7,
   "metadata": {},
   "outputs": [
    {
     "name": "stdout",
     "output_type": "stream",
     "text": [
      "             Nombre                        Correo Email Provider Activo\n",
      "0  DIEGO VALLADARES  diego.valladares@outlook.com    outlook.com     No\n",
      "1      PEPITO MUÑOZ      pepito.muñoz@outlook.com    outlook.com     Si\n",
      "2       JUAN MARTIN             jmartin@gmail.com      gmail.com     Si\n"
     ]
    }
   ],
   "source": [
    "#Agregar columnas + datos al dataframe existente\n",
    "df['Activo'] = ['No','Si','Si']\n",
    "print(df)"
   ]
  },
  {
   "cell_type": "code",
   "execution_count": 13,
   "metadata": {},
   "outputs": [
    {
     "name": "stdout",
     "output_type": "stream",
     "text": [
      "             Nombre                        Correo Email Provider Activo  \\\n",
      "0  DIEGO VALLADARES  diego.valladares@outlook.com    outlook.com     No   \n",
      "1      PEPITO MUÑOZ      pepito.muñoz@outlook.com    outlook.com     Si   \n",
      "2       JUAN MARTIN             jmartin@gmail.com      gmail.com     Si   \n",
      "\n",
      "     Estado  \n",
      "0  Eliminar  \n",
      "1        OK  \n",
      "2        OK  \n"
     ]
    }
   ],
   "source": [
    "df['Estado'] = df.apply(\n",
    "    lambda row:  'Eliminar' if row['Activo'] == 'No' else 'OK' ,\n",
    "    axis = 1\n",
    ")\n",
    "print(df)"
   ]
  },
  {
   "cell_type": "code",
   "execution_count": null,
   "metadata": {},
   "outputs": [],
   "source": []
  }
 ],
 "metadata": {
  "kernelspec": {
   "display_name": "Python 3",
   "language": "python",
   "name": "python3"
  },
  "language_info": {
   "codemirror_mode": {
    "name": "ipython",
    "version": 3
   },
   "file_extension": ".py",
   "mimetype": "text/x-python",
   "name": "python",
   "nbconvert_exporter": "python",
   "pygments_lexer": "ipython3",
   "version": "3.8.5"
  }
 },
 "nbformat": 4,
 "nbformat_minor": 4
}
