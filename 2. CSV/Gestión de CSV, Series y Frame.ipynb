{
 "cells": [
  {
   "cell_type": "code",
   "execution_count": 1,
   "metadata": {},
   "outputs": [],
   "source": [
    "#importar librería panda. Una buena practica es utilizar un alias pd (as)\n",
    "import pandas as pd"
   ]
  },
  {
   "cell_type": "code",
   "execution_count": 3,
   "metadata": {},
   "outputs": [],
   "source": [
    "df = pd.read_csv('imdb.csv')"
   ]
  },
  {
   "cell_type": "code",
   "execution_count": 4,
   "metadata": {},
   "outputs": [
    {
     "name": "stdout",
     "output_type": "stream",
     "text": [
      "      id                                       name   genre  year imdb_rating\n",
      "0      1                                     Avatar  action  2009         7.9\n",
      "1      2                             Jurassic World  action  2015         7.3\n",
      "2      3                               The Avengers  action  2012         8.1\n",
      "3      4                            The Dark Knight  action  2008         9.0\n",
      "4      5  Star Wars: Episode I - The Phantom Menace  action  1999         6.6\n",
      "..   ...                                        ...     ...   ...         ...\n",
      "215  216                                   Hannibal   drama  2001         6.7\n",
      "216  217                        Catch Me If You Can   drama  2002         8.0\n",
      "217  218                                  Big Daddy   drama  1999         6.4\n",
      "218  219                                      Se7en   drama  1995         8.6\n",
      "219  220                                      Seven   drama  1979         6.1\n",
      "\n",
      "[220 rows x 5 columns]\n"
     ]
    }
   ],
   "source": [
    "print(df)"
   ]
  },
  {
   "cell_type": "code",
   "execution_count": 5,
   "metadata": {},
   "outputs": [
    {
     "data": {
      "text/html": [
       "<div>\n",
       "<style scoped>\n",
       "    .dataframe tbody tr th:only-of-type {\n",
       "        vertical-align: middle;\n",
       "    }\n",
       "\n",
       "    .dataframe tbody tr th {\n",
       "        vertical-align: top;\n",
       "    }\n",
       "\n",
       "    .dataframe thead th {\n",
       "        text-align: right;\n",
       "    }\n",
       "</style>\n",
       "<table border=\"1\" class=\"dataframe\">\n",
       "  <thead>\n",
       "    <tr style=\"text-align: right;\">\n",
       "      <th></th>\n",
       "      <th>id</th>\n",
       "      <th>name</th>\n",
       "      <th>genre</th>\n",
       "      <th>year</th>\n",
       "      <th>imdb_rating</th>\n",
       "    </tr>\n",
       "  </thead>\n",
       "  <tbody>\n",
       "    <tr>\n",
       "      <th>0</th>\n",
       "      <td>1</td>\n",
       "      <td>Avatar</td>\n",
       "      <td>action</td>\n",
       "      <td>2009</td>\n",
       "      <td>7.9</td>\n",
       "    </tr>\n",
       "    <tr>\n",
       "      <th>1</th>\n",
       "      <td>2</td>\n",
       "      <td>Jurassic World</td>\n",
       "      <td>action</td>\n",
       "      <td>2015</td>\n",
       "      <td>7.3</td>\n",
       "    </tr>\n",
       "    <tr>\n",
       "      <th>2</th>\n",
       "      <td>3</td>\n",
       "      <td>The Avengers</td>\n",
       "      <td>action</td>\n",
       "      <td>2012</td>\n",
       "      <td>8.1</td>\n",
       "    </tr>\n",
       "    <tr>\n",
       "      <th>3</th>\n",
       "      <td>4</td>\n",
       "      <td>The Dark Knight</td>\n",
       "      <td>action</td>\n",
       "      <td>2008</td>\n",
       "      <td>9.0</td>\n",
       "    </tr>\n",
       "    <tr>\n",
       "      <th>4</th>\n",
       "      <td>5</td>\n",
       "      <td>Star Wars: Episode I - The Phantom Menace</td>\n",
       "      <td>action</td>\n",
       "      <td>1999</td>\n",
       "      <td>6.6</td>\n",
       "    </tr>\n",
       "  </tbody>\n",
       "</table>\n",
       "</div>"
      ],
      "text/plain": [
       "   id                                       name   genre  year imdb_rating\n",
       "0   1                                     Avatar  action  2009         7.9\n",
       "1   2                             Jurassic World  action  2015         7.3\n",
       "2   3                               The Avengers  action  2012         8.1\n",
       "3   4                            The Dark Knight  action  2008         9.0\n",
       "4   5  Star Wars: Episode I - The Phantom Menace  action  1999         6.6"
      ]
     },
     "execution_count": 5,
     "metadata": {},
     "output_type": "execute_result"
    }
   ],
   "source": [
    "#imprime los primeros 5 registros\n",
    "df.head()"
   ]
  },
  {
   "cell_type": "code",
   "execution_count": 6,
   "metadata": {},
   "outputs": [
    {
     "data": {
      "text/html": [
       "<div>\n",
       "<style scoped>\n",
       "    .dataframe tbody tr th:only-of-type {\n",
       "        vertical-align: middle;\n",
       "    }\n",
       "\n",
       "    .dataframe tbody tr th {\n",
       "        vertical-align: top;\n",
       "    }\n",
       "\n",
       "    .dataframe thead th {\n",
       "        text-align: right;\n",
       "    }\n",
       "</style>\n",
       "<table border=\"1\" class=\"dataframe\">\n",
       "  <thead>\n",
       "    <tr style=\"text-align: right;\">\n",
       "      <th></th>\n",
       "      <th>id</th>\n",
       "      <th>name</th>\n",
       "      <th>genre</th>\n",
       "      <th>year</th>\n",
       "      <th>imdb_rating</th>\n",
       "    </tr>\n",
       "  </thead>\n",
       "  <tbody>\n",
       "    <tr>\n",
       "      <th>0</th>\n",
       "      <td>1</td>\n",
       "      <td>Avatar</td>\n",
       "      <td>action</td>\n",
       "      <td>2009</td>\n",
       "      <td>7.9</td>\n",
       "    </tr>\n",
       "    <tr>\n",
       "      <th>1</th>\n",
       "      <td>2</td>\n",
       "      <td>Jurassic World</td>\n",
       "      <td>action</td>\n",
       "      <td>2015</td>\n",
       "      <td>7.3</td>\n",
       "    </tr>\n",
       "    <tr>\n",
       "      <th>2</th>\n",
       "      <td>3</td>\n",
       "      <td>The Avengers</td>\n",
       "      <td>action</td>\n",
       "      <td>2012</td>\n",
       "      <td>8.1</td>\n",
       "    </tr>\n",
       "    <tr>\n",
       "      <th>3</th>\n",
       "      <td>4</td>\n",
       "      <td>The Dark Knight</td>\n",
       "      <td>action</td>\n",
       "      <td>2008</td>\n",
       "      <td>9.0</td>\n",
       "    </tr>\n",
       "    <tr>\n",
       "      <th>4</th>\n",
       "      <td>5</td>\n",
       "      <td>Star Wars: Episode I - The Phantom Menace</td>\n",
       "      <td>action</td>\n",
       "      <td>1999</td>\n",
       "      <td>6.6</td>\n",
       "    </tr>\n",
       "    <tr>\n",
       "      <th>5</th>\n",
       "      <td>6</td>\n",
       "      <td>Star Wars</td>\n",
       "      <td>action</td>\n",
       "      <td>1977</td>\n",
       "      <td>8.7</td>\n",
       "    </tr>\n",
       "    <tr>\n",
       "      <th>6</th>\n",
       "      <td>7</td>\n",
       "      <td>Avengers: Age of Ultron</td>\n",
       "      <td>action</td>\n",
       "      <td>2015</td>\n",
       "      <td>7.9</td>\n",
       "    </tr>\n",
       "    <tr>\n",
       "      <th>7</th>\n",
       "      <td>8</td>\n",
       "      <td>The Dark Knight Rises</td>\n",
       "      <td>action</td>\n",
       "      <td>2012</td>\n",
       "      <td>8.5</td>\n",
       "    </tr>\n",
       "    <tr>\n",
       "      <th>8</th>\n",
       "      <td>9</td>\n",
       "      <td>Pirates of the Caribbean: Dead Mans Chest</td>\n",
       "      <td>action</td>\n",
       "      <td>2006</td>\n",
       "      <td>7.3</td>\n",
       "    </tr>\n",
       "    <tr>\n",
       "      <th>9</th>\n",
       "      <td>10</td>\n",
       "      <td>Iron Man 3</td>\n",
       "      <td>action</td>\n",
       "      <td>2013</td>\n",
       "      <td>7.3</td>\n",
       "    </tr>\n",
       "  </tbody>\n",
       "</table>\n",
       "</div>"
      ],
      "text/plain": [
       "   id                                       name   genre  year imdb_rating\n",
       "0   1                                     Avatar  action  2009         7.9\n",
       "1   2                             Jurassic World  action  2015         7.3\n",
       "2   3                               The Avengers  action  2012         8.1\n",
       "3   4                            The Dark Knight  action  2008         9.0\n",
       "4   5  Star Wars: Episode I - The Phantom Menace  action  1999         6.6\n",
       "5   6                                  Star Wars  action  1977         8.7\n",
       "6   7                    Avengers: Age of Ultron  action  2015         7.9\n",
       "7   8                      The Dark Knight Rises  action  2012         8.5\n",
       "8   9  Pirates of the Caribbean: Dead Mans Chest  action  2006         7.3\n",
       "9  10                                 Iron Man 3  action  2013         7.3"
      ]
     },
     "execution_count": 6,
     "metadata": {},
     "output_type": "execute_result"
    }
   ],
   "source": [
    "#imprime los 10 primeros registros\n",
    "df.head(10)"
   ]
  },
  {
   "cell_type": "code",
   "execution_count": 7,
   "metadata": {},
   "outputs": [
    {
     "name": "stdout",
     "output_type": "stream",
     "text": [
      "<class 'pandas.core.frame.DataFrame'>\n",
      "RangeIndex: 220 entries, 0 to 219\n",
      "Data columns (total 5 columns):\n",
      " #   Column       Non-Null Count  Dtype \n",
      "---  ------       --------------  ----- \n",
      " 0   id           220 non-null    int64 \n",
      " 1   name         220 non-null    object\n",
      " 2   genre        220 non-null    object\n",
      " 3   year         220 non-null    int64 \n",
      " 4   imdb_rating  220 non-null    object\n",
      "dtypes: int64(2), object(3)\n",
      "memory usage: 8.7+ KB\n"
     ]
    }
   ],
   "source": [
    "#mostrar información\n",
    "df.info()"
   ]
  },
  {
   "cell_type": "code",
   "execution_count": 8,
   "metadata": {},
   "outputs": [
    {
     "name": "stdout",
     "output_type": "stream",
     "text": [
      "0      2009\n",
      "1      2015\n",
      "2      2012\n",
      "3      2008\n",
      "4      1999\n",
      "       ... \n",
      "215    2001\n",
      "216    2002\n",
      "217    1999\n",
      "218    1995\n",
      "219    1979\n",
      "Name: year, Length: 220, dtype: int64\n"
     ]
    }
   ],
   "source": [
    "#mostrar solo el año del dataframe\n",
    "year = df['year']\n",
    "print(year)"
   ]
  },
  {
   "cell_type": "code",
   "execution_count": 9,
   "metadata": {},
   "outputs": [
    {
     "name": "stdout",
     "output_type": "stream",
     "text": [
      "0      action\n",
      "1      action\n",
      "2      action\n",
      "3      action\n",
      "4      action\n",
      "        ...  \n",
      "215     drama\n",
      "216     drama\n",
      "217     drama\n",
      "218     drama\n",
      "219     drama\n",
      "Name: genre, Length: 220, dtype: object\n"
     ]
    }
   ],
   "source": [
    "#mostrar solo el genero\n",
    "genre = df.genre\n",
    "print(genre)"
   ]
  },
  {
   "cell_type": "code",
   "execution_count": 15,
   "metadata": {},
   "outputs": [
    {
     "name": "stdout",
     "output_type": "stream",
     "text": [
      "<class 'pandas.core.series.Series'>\n",
      "0    100\n",
      "1     20\n",
      "2     30\n",
      "3     50\n",
      "4     60\n",
      "5      2\n",
      "dtype: int64\n"
     ]
    }
   ],
   "source": [
    "#Serie en panda segun el tipo del frame generado. Objeto de una sola división es igual a un array\n",
    "print(type(genre))\n",
    "\n",
    "#otra forma de hacer serie de forma manual\n",
    "clinic_east = pd.Series([100,20,30,50,60,2])\n",
    "print(clinic_east)"
   ]
  },
  {
   "cell_type": "code",
   "execution_count": 16,
   "metadata": {},
   "outputs": [
    {
     "name": "stdout",
     "output_type": "stream",
     "text": [
      "     year   genre\n",
      "0    2009  action\n",
      "1    2015  action\n",
      "2    2012  action\n",
      "3    2008  action\n",
      "4    1999  action\n",
      "..    ...     ...\n",
      "215  2001   drama\n",
      "216  2002   drama\n",
      "217  1999   drama\n",
      "218  1995   drama\n",
      "219  1979   drama\n",
      "\n",
      "[220 rows x 2 columns]\n"
     ]
    }
   ],
   "source": [
    "#imprimir dos columnas (year y genre)\n",
    "new_df = df[['year','genre']]\n",
    "print(new_df)"
   ]
  },
  {
   "cell_type": "code",
   "execution_count": null,
   "metadata": {},
   "outputs": [],
   "source": []
  }
 ],
 "metadata": {
  "kernelspec": {
   "display_name": "Python 3",
   "language": "python",
   "name": "python3"
  },
  "language_info": {
   "codemirror_mode": {
    "name": "ipython",
    "version": 3
   },
   "file_extension": ".py",
   "mimetype": "text/x-python",
   "name": "python",
   "nbconvert_exporter": "python",
   "pygments_lexer": "ipython3",
   "version": "3.8.5"
  }
 },
 "nbformat": 4,
 "nbformat_minor": 4
}
