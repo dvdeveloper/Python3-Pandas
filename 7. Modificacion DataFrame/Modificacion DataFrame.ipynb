{
 "cells": [
  {
   "cell_type": "code",
   "execution_count": 1,
   "metadata": {},
   "outputs": [],
   "source": [
    "import pandas as pd"
   ]
  },
  {
   "cell_type": "code",
   "execution_count": 3,
   "metadata": {},
   "outputs": [
    {
     "name": "stdout",
     "output_type": "stream",
     "text": [
      "   ID Descripcion    X     Y\n",
      "0   1        XXXX  0.5  0.75\n",
      "1   2        XXXY  0.4  0.74\n",
      "2   3        XXYY  0.3  0.70\n",
      "3   4        XYYY  0.1  0.55\n"
     ]
    }
   ],
   "source": [
    "df = pd.DataFrame([\n",
    "    [1,'XXXX',0.5,0.75],\n",
    "    [2,'XXXY',0.4,0.74],\n",
    "    [3,'XXYY',0.3,0.70],\n",
    "    [4,'XYYY',0.1,0.55]\n",
    "],\n",
    "columns=['ID','Descripcion','X','Y'])\n",
    "print(df)"
   ]
  },
  {
   "cell_type": "code",
   "execution_count": 4,
   "metadata": {},
   "outputs": [
    {
     "name": "stdout",
     "output_type": "stream",
     "text": [
      "   ID Descripcion    X     Y  Cantidad\n",
      "0   1        XXXX  0.5  0.75       100\n",
      "1   2        XXXY  0.4  0.74       110\n",
      "2   3        XXYY  0.3  0.70        43\n",
      "3   4        XYYY  0.1  0.55         2\n"
     ]
    }
   ],
   "source": [
    "#Agregar nueva columna al dataframe\n",
    "df['Cantidad'] = [100,110,43,2]\n",
    "print(df)"
   ]
  },
  {
   "cell_type": "code",
   "execution_count": 5,
   "metadata": {},
   "outputs": [
    {
     "name": "stdout",
     "output_type": "stream",
     "text": [
      "   ID Descripcion    X     Y  Cantidad  stock\n",
      "0   1        XXXX  0.5  0.75       100   True\n",
      "1   2        XXXY  0.4  0.74       110   True\n",
      "2   3        XXYY  0.3  0.70        43   True\n",
      "3   4        XYYY  0.1  0.55         2   True\n"
     ]
    }
   ],
   "source": [
    "#Agregando booleano masivamente\n",
    "df['stock'] = True\n",
    "print(df)"
   ]
  },
  {
   "cell_type": "code",
   "execution_count": 6,
   "metadata": {},
   "outputs": [
    {
     "name": "stdout",
     "output_type": "stream",
     "text": [
      "   ID Descripcion    X     Y  Cantidad  stock  impuesto\n",
      "0   1        XXXX  0.5  0.75       100   True    0.8925\n",
      "1   2        XXXY  0.4  0.74       110   True    0.8806\n",
      "2   3        XXYY  0.3  0.70        43   True    0.8330\n",
      "3   4        XYYY  0.1  0.55         2   True    0.6545\n"
     ]
    }
   ],
   "source": [
    "#Calculando datos con columna existente\n",
    "df['impuesto'] = df.Y * 1.19\n",
    "print(df)"
   ]
  },
  {
   "cell_type": "code",
   "execution_count": 14,
   "metadata": {},
   "outputs": [
    {
     "name": "stdout",
     "output_type": "stream",
     "text": [
      "             Nombre                        Correo\n",
      "0  DIEGO VALLADARES  diego.valladares@outlook.com\n",
      "1      PEPITO MUÑOZ      pepito.muñoz@outlook.com\n",
      "2       JUAN MARTIN             jmartin@gmail.com\n"
     ]
    }
   ],
   "source": [
    "#dataframe solo string\n",
    "df = pd.DataFrame([\n",
    "    ['DIEGO VALLADARES','diego.valladares@outlook.com'],\n",
    "    ['PEPITO MUÑOZ','pepito.muñoz@outlook.com'],\n",
    "    ['JUAN MARTIN','jmartin@gmail.com']\n",
    "],\n",
    "columns = ['Nombre','Correo'])\n",
    "print(df)"
   ]
  },
  {
   "cell_type": "code",
   "execution_count": 15,
   "metadata": {},
   "outputs": [
    {
     "name": "stdout",
     "output_type": "stream",
     "text": [
      "             Nombre                        Correo\n",
      "0  DIEGO VALLADARES  diego.valladares@outlook.com\n",
      "1      PEPITO MUÑOZ      pepito.muñoz@outlook.com\n",
      "2       JUAN MARTIN             jmartin@gmail.com\n"
     ]
    }
   ],
   "source": [
    "#transformar mayuscula los datos de la columna nombre\n",
    "df['Nombre'] = df['Nombre'].str.upper()\n",
    "print(df)"
   ]
  },
  {
   "cell_type": "code",
   "execution_count": 16,
   "metadata": {},
   "outputs": [
    {
     "name": "stdout",
     "output_type": "stream",
     "text": [
      "               Name                         Email\n",
      "0  DIEGO VALLADARES  diego.valladares@outlook.com\n",
      "1      PEPITO MUÑOZ      pepito.muñoz@outlook.com\n",
      "2       JUAN MARTIN             jmartin@gmail.com\n"
     ]
    }
   ],
   "source": [
    "#Renombrar columnas\n",
    "df.columns = ['Name','Email']\n",
    "print(df)"
   ]
  },
  {
   "cell_type": "code",
   "execution_count": 17,
   "metadata": {},
   "outputs": [
    {
     "name": "stdout",
     "output_type": "stream",
     "text": [
      "                          Email\n",
      "0  diego.valladares@outlook.com\n",
      "1      pepito.muñoz@outlook.com\n",
      "2             jmartin@gmail.com\n"
     ]
    }
   ],
   "source": [
    "#Eliminar la columna Name\n",
    "df.drop('Name',axis=1,inplace=True)\n",
    "print(df)\n",
    "\n",
    "#Eliminar más de una lista a la vez\n",
    "#df.drop(['COL1','COL2','COL3'],axis=1,inplace=True)"
   ]
  },
  {
   "cell_type": "code",
   "execution_count": null,
   "metadata": {},
   "outputs": [],
   "source": []
  }
 ],
 "metadata": {
  "kernelspec": {
   "display_name": "Python 3",
   "language": "python",
   "name": "python3"
  },
  "language_info": {
   "codemirror_mode": {
    "name": "ipython",
    "version": 3
   },
   "file_extension": ".py",
   "mimetype": "text/x-python",
   "name": "python",
   "nbconvert_exporter": "python",
   "pygments_lexer": "ipython3",
   "version": "3.8.5"
  }
 },
 "nbformat": 4,
 "nbformat_minor": 4
}
